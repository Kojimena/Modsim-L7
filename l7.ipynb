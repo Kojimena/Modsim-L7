{
 "cells": [
  {
   "cell_type": "markdown",
   "metadata": {},
   "source": [
    "# Laboratorio 7\n",
    "- Jimena Hernandez 21199\n",
    "- Mark Albran 21004"
   ]
  },
  {
   "cell_type": "markdown",
   "metadata": {},
   "source": [
    "## Ejercicio 3\n",
    "Escriba un programa que calcule el valor esperado de una variable aleatoria exponencial utilizando el método\n",
    "estratificado. Escoja tres estratos (intervalos) de 0 a 1, de 1 a 3, y de 3 a infinito."
   ]
  },
  {
   "cell_type": "code",
   "execution_count": 3,
   "metadata": {},
   "outputs": [
    {
     "name": "stdout",
     "output_type": "stream",
     "text": [
      "Valor esperado estimado con muestreo estratificado: 1.473641461797857\n"
     ]
    }
   ],
   "source": [
    "import numpy as np\n",
    "\n",
    "def exponential_mean_stratified(lam, n_samples):\n",
    "    # Probabilidades\n",
    "    p1 = 1 - np.exp(-1 * lam * 1)  # Probabilidad de que X esté entre 0 y 1\n",
    "    p2 = np.exp(-1 * lam * 1) - np.exp(-1 * lam * 3)  # Probabilidad de que X esté entre 1 y 3\n",
    "    p3 = np.exp(-1 * lam * 3)  # Probabilidad de que X esté entre 3 e infinito\n",
    "\n",
    "    # Número de muestras por estrato\n",
    "    n1 = int(n_samples * p1)\n",
    "    n2 = int(n_samples * p2)\n",
    "    n3 = n_samples - n1 - n2\n",
    "\n",
    "    # Generar muestras para cada estrato\n",
    "    samples1 = np.random.exponential(scale=1/lam, size=n1)\n",
    "    samples2 = np.random.exponential(scale=1/lam, size=n2) + 1  \n",
    "    samples3 = np.random.exponential(scale=1/lam, size=n3) + 3  \n",
    "\n",
    "    mean1 = np.mean(samples1)\n",
    "    mean2 = np.mean(samples2)\n",
    "    mean3 = np.mean(samples3)\n",
    "\n",
    "    # Valor esperado total ponderado\n",
    "    total_mean = (mean1 * p1) + (mean2 * p2) + (mean3 * p3)\n",
    "\n",
    "    return total_mean\n",
    "\n",
    "lam = 1.0  # Tasa de la distribución exponencial\n",
    "n_samples = 10000  # Número total de muestras\n",
    "\n",
    "mean_estimated = exponential_mean_stratified(lam, n_samples)\n",
    "print(\"Valor esperado estimado con muestreo estratificado:\", mean_estimated)"
   ]
  }
 ],
 "metadata": {
  "kernelspec": {
   "display_name": "Python 3",
   "language": "python",
   "name": "python3"
  },
  "language_info": {
   "codemirror_mode": {
    "name": "ipython",
    "version": 3
   },
   "file_extension": ".py",
   "mimetype": "text/x-python",
   "name": "python",
   "nbconvert_exporter": "python",
   "pygments_lexer": "ipython3",
   "version": "3.11.4"
  }
 },
 "nbformat": 4,
 "nbformat_minor": 2
}
